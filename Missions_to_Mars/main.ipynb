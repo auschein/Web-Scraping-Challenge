{
 "cells": [
  {
   "cell_type": "code",
   "execution_count": null,
   "metadata": {},
   "outputs": [],
   "source": [
    "from splinter import Browser\n",
    "from urllib.parse import urlsplit\n",
    "import os\n",
    "import pandas as pd\n",
    "from bs4 import BeautifulSoup as bs\n",
    "import time"
   ]
  },
  {
   "cell_type": "code",
   "execution_count": null,
   "metadata": {},
   "outputs": [],
   "source": [
    "execute_path = {\"executable_path\":\"/usr/local/bin/chromedriver\"}"
   ]
  },
  {
   "cell_type": "code",
   "execution_count": null,
   "metadata": {},
   "outputs": [],
   "source": [
    "browser = Browser(\"chrome\", **execute_path, headless=False)"
   ]
  },
  {
   "cell_type": "code",
   "execution_count": null,
   "metadata": {},
   "outputs": [],
   "source": [
    "url = \"https://mars.nasa.gov/news/\"\n",
    "browser.visit(url)\n",
    "html = browser.html\n",
    "soup = bs(html, \"html.parser\")"
   ]
  },
  {
   "cell_type": "code",
   "execution_count": null,
   "metadata": {},
   "outputs": [],
   "source": [
    "nasa_paragraph = soup.find(\"div\", class_ = \"article_teaser_body\").text\n",
    "nasa_title = soup.find(\"div\", class_ = \"content_title\").text\n",
    "print(f\"Nasa Title: {nasa_title}\")\n",
    "print(f\"Nasa Paragrapgh: {nasa_paragraph}\")"
   ]
  },
  {
   "cell_type": "code",
   "execution_count": null,
   "metadata": {},
   "outputs": [],
   "source": [
    "img = \"https://www.jpl.nasa.gov/spaceimages/?search=&category=Mars#submit\"\n",
    "browser.visit(img)"
   ]
  },
  {
   "cell_type": "code",
   "execution_count": null,
   "metadata": {},
   "outputs": [],
   "source": [
    "b_url = \"{0.scheme}://{0.netloc}/\".format(urlsplit(img))\n",
    "print(b_url)"
   ]
  },
  {
   "cell_type": "code",
   "execution_count": null,
   "metadata": {},
   "outputs": [],
   "source": [
    "path = \"//*[@id=\\\"page\\\"]/section[3]/div/ul/li[1]/a/div/div[2]/img\"\n",
    "returns = browser.find_by_xpath(path)\n",
    "img_x = returns[0]\n",
    "img_x.click()"
   ]
  },
  {
   "cell_type": "code",
   "execution_count": null,
   "metadata": {},
   "outputs": [],
   "source": [
    "img_html = browser.html\n",
    "soup = bs(img_html, \"html.parser\")\n",
    "image_url = soup.find(\"img\", class_ = \"fancybox-image\")[\"src\"]\n",
    "true_img_url = b_url + image_url\n",
    "print(true_img_url)"
   ]
  },
  {
   "cell_type": "code",
   "execution_count": null,
   "metadata": {},
   "outputs": [],
   "source": [
    "weather_url = \"https://twitter.com/marswxreport?lang=en\"\n",
    "browser.visit(weather_url)\n",
    "weather_html = browser.html\n",
    "soup = bs(weather_html, \"html.parser\")"
   ]
  },
  {
   "cell_type": "code",
   "execution_count": null,
   "metadata": {},
   "outputs": [],
   "source": [
    "weather_on_mars = soup.find(\"p\", class_ = \"TweetTextSize TweetTextSize--normal js-tweet-text tweet-text\").text\n",
    "print(weather_on_mars)"
   ]
  },
  {
   "cell_type": "code",
   "execution_count": null,
   "metadata": {},
   "outputs": [],
   "source": [
    "facts_url = \"https://space-facts.com/mars/\"\n",
    "db = pd.read_html(facts_url)\n",
    "db[0]"
   ]
  },
  {
   "cell_type": "code",
   "execution_count": null,
   "metadata": {},
   "outputs": [],
   "source": [
    "db_facts = db[0]\n",
    "db_facts.columns = [\"Measurements\", \"Mars-Values\",\"Earth-Values\"]\n",
    "db_facts.set_index([\"Measurements\"])"
   ]
  },
  {
   "cell_type": "code",
   "execution_count": null,
   "metadata": {},
   "outputs": [],
   "source": [
    "db_html = db_facts.to_html()\n",
    "db_html.replace(\"\\n\", \"\")"
   ]
  },
  {
   "cell_type": "code",
   "execution_count": null,
   "metadata": {},
   "outputs": [],
   "source": [
    "db_facts.to_html(\"db_html\")"
   ]
  },
  {
   "cell_type": "code",
   "execution_count": null,
   "metadata": {},
   "outputs": [],
   "source": [
    "hemi_url = \"https://astrogeology.usgs.gov/search/results?q=hemisphere+enhanced&k1=target&v1=Mars\""
   ]
  },
  {
   "cell_type": "code",
   "execution_count": null,
   "metadata": {},
   "outputs": [],
   "source": [
    "browser.visit(hemi_url)\n",
    "hemi_url_base = \"{0.scheme}://{0.netloc}/\".format(urlsplit(hemi_url))\n",
    "print(hemi_url_base)"
   ]
  },
  {
   "cell_type": "code",
   "execution_count": null,
   "metadata": {},
   "outputs": [],
   "source": [
    "hemi_images = []"
   ]
  },
  {
   "cell_type": "code",
   "execution_count": null,
   "metadata": {},
   "outputs": [],
   "source": [
    "returns1 = browser.find_by_xpath(\"//*[@id='product-section']/div[2]/div[1]/a/img\")[0].click()\n",
    "time.sleep(2)\n",
    "click_cerb = browser.find_by_xpath(\"//*[@id='wide-image-toggle']\")[0].click()\n",
    "time.sleep(1)\n",
    "img_cerb = browser.html\n",
    "soup = bs(img_cerb, \"html.parser\")\n",
    "url_cerb = soup.find(\"img\", class_=\"wide-image\")[\"src\"]\n",
    "img_url_cerb = hemi_url_base + url_cerb\n",
    "print(img_url_cerb)\n",
    "title_cerb = soup.find(\"h2\", class_ = \"title\").text\n",
    "print(title_cerb)\n",
    "go_back = browser.find_by_xpath(\"//*[@id='splashy']/div[1]/div[1]/div[3]/section/a\")[0].click()\n",
    "cerb = {\"Image\":title_cerb, \"Url\": img_url_cerb}\n",
    "hemi_images.append(cerb)"
   ]
  },
  {
   "cell_type": "code",
   "execution_count": null,
   "metadata": {},
   "outputs": [],
   "source": [
    "returns2 = browser.find_by_xpath(\"//*[@id='product-section']/div[2]/div[2]/a/img\").first.click()\n",
    "time.sleep(3)\n",
    "click_schi = browser.find_by_xpath(\"//*[@id='wide-image-toggle']\").first.click()\n",
    "time.sleep(3)\n",
    "img_schi = browser.html\n",
    "soup = bs(img_schi, \"html.parser\")\n",
    "url_schi = soup.find(\"img\", class_=\"wide-image\")[\"src\"]\n",
    "img_url_schi = hemi_url_base + url_schi\n",
    "print(img_url_schi)\n",
    "title_schi = soup.find(\"h2\", class_ = \"title\").text\n",
    "print(title_schi)\n",
    "go_back = browser.find_by_xpath(\"//*[@id='splashy']/div[1]/div[1]/div[3]/section/a\").first.click()\n",
    "schi = {\"Image\":title_schi, \"Url\": img_url_schi}\n",
    "hemi_images.append(schi)"
   ]
  },
  {
   "cell_type": "code",
   "execution_count": null,
   "metadata": {},
   "outputs": [],
   "source": [
    "returns3 = browser.find_by_xpath(\"//*[@id='product-section']/div[2]/div[3]/a/img\").first.click()\n",
    "time.sleep(3)\n",
    "click_syr_major = browser.find_by_xpath(\"//*[@id='wide-image-toggle']\").first.click()\n",
    "time.sleep(3)\n",
    "img_syr_major = browser.html\n",
    "soup = bs(img_syr_major, \"html.parser\")\n",
    "url_syr_major = soup.find(\"img\", class_=\"wide-image\")[\"src\"]\n",
    "img_url_syr_major = hemi_url + url_syr_major\n",
    "print(img_url_syr_major)\n",
    "title_syr_major = soup.find(\"h2\", class_ = \"title\").text\n",
    "print(title_syr_major)\n",
    "go_back = browser.find_by_xpath(\"//*[@id='splashy']/div[1]/div[1]/div[3]/section/a\").first.click()\n",
    "syr_major = {\"Image\":title_syr_major, \"Url\": img_url_syr_major}\n",
    "hemi_images.append(syr_major)"
   ]
  },
  {
   "cell_type": "code",
   "execution_count": null,
   "metadata": {},
   "outputs": [],
   "source": [
    "returns4 = browser.find_by_xpath(\"//*[@id='product-section']/div[2]/div[4]/a/img\").first.click()\n",
    "time.sleep(3)\n",
    "click_val_mari = browser.find_by_xpath(\"//*[@id='wide-image-toggle']\").first.click()\n",
    "time.sleep(3)\n",
    "img_val_mari = browser.html\n",
    "soup = bs(img_val_mari, \"html.parser\")\n",
    "url_val_mari = soup.find(\"img\", class_=\"wide-image\")[\"src\"]\n",
    "img_url_val_mari = hemi_url + url_val_mari\n",
    "print(img_url_val_mari)\n",
    "title_val_mari = soup.find(\"h2\", class_ = \"title\").text\n",
    "print(title_val_mari)\n",
    "go_back = browser.find_by_xpath(\"//*[@id='splashy']/div[1]/div[1]/div[3]/section/a\").first.click()\n",
    "val_mari = {\"Image\":title_val_mari, \"Url\": img_url_val_mari}\n",
    "hemi_images.append(val_mari)"
   ]
  },
  {
   "cell_type": "code",
   "execution_count": null,
   "metadata": {},
   "outputs": [],
   "source": []
  }
 ],
 "metadata": {
  "kernelspec": {
   "display_name": "Conda [PythonData]",
   "language": "python",
   "name": "pythondata"
  },
  "language_info": {
   "codemirror_mode": {
    "name": "ipython",
    "version": 3
   },
   "file_extension": ".py",
   "mimetype": "text/x-python",
   "name": "python",
   "nbconvert_exporter": "python",
   "pygments_lexer": "ipython3",
   "version": "3.7.3"
  }
 },
 "nbformat": 4,
 "nbformat_minor": 2
}
